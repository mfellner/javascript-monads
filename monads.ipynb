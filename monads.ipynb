{
 "cells": [
  {
   "cell_type": "code",
   "execution_count": 1,
   "metadata": {
    "collapsed": false
   },
   "outputs": [
    {
     "data": {
      "text/plain": [
       "[ 1, 4, 9, 16, 25 ]"
      ]
     },
     "execution_count": 1,
     "metadata": {},
     "output_type": "execute_result"
    }
   ],
   "source": [
    "xs = [1, 2, 3, 4, 5]\n",
    "xs.map(x => x * x)"
   ]
  },
  {
   "cell_type": "code",
   "execution_count": 2,
   "metadata": {
    "collapsed": false
   },
   "outputs": [
    {
     "data": {
      "text/plain": [
       "[ 1, 4, 9, 0, NaN ]"
      ]
     },
     "execution_count": 2,
     "metadata": {},
     "output_type": "execute_result"
    }
   ],
   "source": [
    "ys = [1, 2, 3, null, NaN]\n",
    "ys.map(y => y * y)"
   ]
  },
  {
   "cell_type": "code",
   "execution_count": 3,
   "metadata": {
    "collapsed": false
   },
   "outputs": [
    {
     "data": {
      "text/plain": [
       "[]"
      ]
     },
     "execution_count": 3,
     "metadata": {},
     "output_type": "execute_result"
    }
   ],
   "source": [
    "[].map(x => x)"
   ]
  },
  {
   "cell_type": "code",
   "execution_count": 4,
   "metadata": {
    "collapsed": false
   },
   "outputs": [
    {
     "data": {
      "text/plain": [
       "[ 1, 4, 9, 0, 0 ]"
      ]
     },
     "execution_count": 4,
     "metadata": {},
     "output_type": "execute_result"
    }
   ],
   "source": [
    "zs = [[1], [2], [3], [], []]\n",
    "zs.map(z => z * z)"
   ]
  },
  {
   "cell_type": "code",
   "execution_count": 5,
   "metadata": {
    "collapsed": false
   },
   "outputs": [
    {
     "data": {
      "text/plain": [
       "[Function]"
      ]
     },
     "execution_count": 5,
     "metadata": {},
     "output_type": "execute_result"
    }
   ],
   "source": [
    "\"use strict\"\n",
    "Array.prototype.flatMap = function (callback) {\n",
    "    let ys = []\n",
    "    for (let xs of this) {\n",
    "        if (!xs[Symbol.iterator])\n",
    "            throw new Error('Not iterable: ' + typeof xs)\n",
    "        for (let x of xs) {\n",
    "            ys = ys.concat(callback(x))\n",
    "        }\n",
    "    }\n",
    "    return ys\n",
    "}"
   ]
  },
  {
   "cell_type": "code",
   "execution_count": 6,
   "metadata": {
    "collapsed": false
   },
   "outputs": [
    {
     "data": {
      "text/plain": [
       "[ 1, 4, 9 ]"
      ]
     },
     "execution_count": 6,
     "metadata": {},
     "output_type": "execute_result"
    }
   ],
   "source": [
    "zs.flatMap(z => z * z)"
   ]
  },
  {
   "cell_type": "code",
   "execution_count": 7,
   "metadata": {
    "collapsed": false
   },
   "outputs": [
    {
     "data": {
      "text/plain": [
       "[ 'B', 'R', 'O', 'W', 'N', 'F', 'O', 'X' ]"
      ]
     },
     "execution_count": 7,
     "metadata": {},
     "output_type": "execute_result"
    }
   ],
   "source": [
    "words = ['brown', 'fox']\n",
    "words.flatMap(c => c.toUpperCase())"
   ]
  },
  {
   "cell_type": "code",
   "execution_count": 8,
   "metadata": {
    "collapsed": false
   },
   "outputs": [
    {
     "data": {
      "text/plain": [
       "undefined"
      ]
     },
     "execution_count": 8,
     "metadata": {},
     "output_type": "execute_result"
    }
   ],
   "source": [
    "function Maybe(x) {\n",
    "    function unit() {\n",
    "        return x // Just\n",
    "    }\n",
    "\n",
    "    /**\n",
    "     * b1nd :: Maybe a -> (a -> Maybe b) -> Maybe b\n",
    "     */\n",
    "    unit.b1nd = function(g) {\n",
    "        if (x !== null && x !== undefined) {\n",
    "            return Maybe(g(x)) // Something\n",
    "        } else {\n",
    "            return Maybe(x)    // Nothing\n",
    "        }\n",
    "    }\n",
    "\n",
    "    return unit\n",
    "}"
   ]
  },
  {
   "cell_type": "code",
   "execution_count": 9,
   "metadata": {
    "collapsed": false
   },
   "outputs": [
    {
     "data": {
      "text/plain": [
       "3"
      ]
     },
     "execution_count": 9,
     "metadata": {},
     "output_type": "execute_result"
    }
   ],
   "source": [
    "Maybe(2).b1nd(x => x * x).b1nd(x => x + 2).b1nd(x => x / 2)()"
   ]
  },
  {
   "cell_type": "code",
   "execution_count": 10,
   "metadata": {
    "collapsed": false
   },
   "outputs": [
    {
     "data": {
      "text/plain": [
       "null"
      ]
     },
     "execution_count": 10,
     "metadata": {},
     "output_type": "execute_result"
    }
   ],
   "source": [
    "Maybe(null).b1nd(x => x * x).b1nd(x => x + 2)()"
   ]
  },
  {
   "cell_type": "code",
   "execution_count": 11,
   "metadata": {
    "collapsed": false
   },
   "outputs": [
    {
     "data": {
      "text/plain": [
       "undefined"
      ]
     },
     "execution_count": 11,
     "metadata": {},
     "output_type": "execute_result"
    }
   ],
   "source": [
    "function Monad(args) {\n",
    "    return function M(x) {\n",
    "        unit = args.unit || (() => x)\n",
    "        unit.b1nd = args.bind(M, x) \n",
    "        unit.then = args.then(x)\n",
    "        return unit\n",
    "    }\n",
    "}"
   ]
  },
  {
   "cell_type": "code",
   "execution_count": 12,
   "metadata": {
    "collapsed": false
   },
   "outputs": [
    {
     "data": {
      "text/plain": [
       "[Function: M]"
      ]
     },
     "execution_count": 12,
     "metadata": {},
     "output_type": "execute_result"
    }
   ],
   "source": [
    "Mayb3 = Monad({\n",
    "    bind: (M, x) =>\n",
    "        function b1nd(g) {\n",
    "            if (x !== null && x !== undefined) {\n",
    "                return M(g(x)) // Something\n",
    "            } else {\n",
    "                return M(x)    // Nothing\n",
    "            }\n",
    "        }\n",
    "    ,\n",
    "    then: (x) =>\n",
    "        function then(g) {\n",
    "            if (x !== null && x !== undefined) {\n",
    "                return g(x)\n",
    "            } else {\n",
    "                return x\n",
    "            }\n",
    "        }\n",
    "})"
   ]
  },
  {
   "cell_type": "code",
   "execution_count": 13,
   "metadata": {
    "collapsed": false
   },
   "outputs": [
    {
     "data": {
      "text/plain": [
       "9"
      ]
     },
     "execution_count": 13,
     "metadata": {},
     "output_type": "execute_result"
    }
   ],
   "source": [
    "Mayb3(4).b1nd(x => x * x).b1nd(x => x + 2).then(x => x / 2)"
   ]
  },
  {
   "cell_type": "code",
   "execution_count": null,
   "metadata": {
    "collapsed": true
   },
   "outputs": [],
   "source": []
  }
 ],
 "metadata": {
  "kernelspec": {
   "display_name": "Javascript (Node.js)",
   "language": "javascript",
   "name": "javascript"
  },
  "language_info": {
   "file_extension": ".js",
   "mimetype": "application/javascript",
   "name": "javascript",
   "version": "5.10.1"
  }
 },
 "nbformat": 4,
 "nbformat_minor": 0
}
