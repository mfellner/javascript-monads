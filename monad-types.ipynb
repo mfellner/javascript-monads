{
 "cells": [
  {
   "cell_type": "markdown",
   "metadata": {},
   "source": [
    "# Monad Types in JavaScript\n",
    "\n",
    "Based on [Understanding Monads](https://en.wikibooks.org/wiki/Haskell/Understanding_monads) in Haskell.\n",
    "\n",
    "A monad is defined by three things:\n",
    "\n",
    "* a [type constructor](https://en.wikibooks.org/wiki/Haskell/More_on_datatypes#Parameterized_Types) `m` (does not exist in JavaScript)\n",
    "* a function `return`\n",
    "* an operator `(>>=)` which is pronounced \"bind\"\n",
    "\n",
    "The function and operator are methods of the Monad class:"
   ]
  },
  {
   "cell_type": "code",
   "execution_count": 1,
   "metadata": {
    "collapsed": false
   },
   "outputs": [
    {
     "data": {
      "text/plain": [
       "[Function: Monad]"
      ]
     },
     "execution_count": 1,
     "metadata": {},
     "output_type": "execute_result"
    }
   ],
   "source": [
    "const T = Symbol('Type')\n",
    "\n",
    "/**\n",
    " * Abstract base class Monad[T]\n",
    " *\n",
    " * We use ES2015 classes to declare an 'abstract' base type. Since there\n",
    " * are no abstract classes in JavaScript, we must rely on the user to\n",
    " * only instantiate the proper subclasses through the provided methods.\n",
    " */\n",
    "class Monad {\n",
    "    /**\n",
    "     * @param {*} x - The actual value wrapped by the Monad\n",
    "     * @param {function} t - The type of the concrete subclass\n",
    "     */\n",
    "    constructor(x, t) {\n",
    "        this.x = x\n",
    "        this[T] = t\n",
    "    }\n",
    "\n",
    "    /**\n",
    "     * return :: (Monad m) => a -> m a\n",
    "     *\n",
    "     * In principle the constructor already defines the 'return' (or 'unit')\n",
    "     * function. However because it requires the use of 'new' and cannot\n",
    "     * be called as a regular function, we use this implementation instead.\n",
    "     *\n",
    "     * We must declare this method as 'static' so that it can be used\n",
    "     * without already having a Monad instance.\n",
    "     *\n",
    "     * @param {*} x - A raw value that will be wrapped inside the Monad\n",
    "     * @returns {Monad} - An instance of a concrete Monad subclass\n",
    "     */\n",
    "    static return(x) {\n",
    "        throw new Error('derived types must implement return') \n",
    "    }\n",
    "\n",
    "    /**\n",
    "     * bind :: (Monad m) => m a -> (a -> m b) -> m b\n",
    "     *\n",
    "     * The purpose of this method is to transform the Monad\n",
    "     * into another Monad by applying a special function.\n",
    "     *\n",
    "     * @abstract\n",
    "     * @param {function} g - Function of type (a -> m b)\n",
    "     * @returns {Monad} - The result of applying g to this Monad\n",
    "     */\n",
    "    bind(g) {\n",
    "        throw new Error('derived types must implement bind')\n",
    "    }\n",
    "\n",
    "    /**\n",
    "     * then :: (Monad m) => m a -> m b -> m b\n",
    "     * \n",
    "     * A convenience method that directly binds another\n",
    "     * Monad without performing any transformation. The\n",
    "     * result still depends on the implementation of bind.\n",
    "     * \n",
    "     * @param {Monad} m\n",
    "     * @returns {Monad} - The result of binding m to this Monad\n",
    "     */\n",
    "    then(m) {\n",
    "        return this.bind(_ => m)\n",
    "    }\n",
    "\n",
    "    /**\n",
    "     * liftM :: m a1 -> (a1 -> r) -> m r\n",
    "     *\n",
    "     * Like bind, but we can apply a function of type (a1 -> r)\n",
    "     *\n",
    "     * liftM (or fmap) is typically written as (a1 -> r) -> m a1 -> m r\n",
    "     * However, because we must declare it as a method of this class, we\n",
    "     * reverse the order of the first two statements.\n",
    "     *\n",
    "     * The only way to provide a default implementation of liftM\n",
    "     * in this base class is by having a reference to the right\n",
    "     * implementation of 'return'. Thus we employ the following trick:\n",
    "     * When instantiating the concrete subclass we pass the subclass\n",
    "     * type to this abstract base class in the constructor.\n",
    "     * Now we have access to the static methods of that subclass.\n",
    "     *\n",
    "     * @returns {Monad}\n",
    "     */\n",
    "    liftM(f) {\n",
    "        return this.bind(x => this[T].return(f(x)))\n",
    "    }\n",
    "}"
   ]
  },
  {
   "cell_type": "markdown",
   "metadata": {},
   "source": [
    "## Maybe Monad"
   ]
  },
  {
   "cell_type": "code",
   "execution_count": 2,
   "metadata": {
    "collapsed": false
   },
   "outputs": [
    {
     "data": {
      "text/plain": [
       "[Function: Nothing]"
      ]
     },
     "execution_count": 2,
     "metadata": {},
     "output_type": "execute_result"
    }
   ],
   "source": [
    "class Maybe extends Monad {\n",
    "    /**\n",
    "     * bind :: Maybe a -> (Maybe -> Maybe b) -> Maybe b\n",
    "     * @override\n",
    "     * @param {function} g\n",
    "     * @returns {Maybe}\n",
    "     */\n",
    "    bind(g) {\n",
    "        // In other languages we could use pattern matching instead.\n",
    "        if (this instanceof Just)\n",
    "            return g(this.x)\n",
    "        else\n",
    "            return Nothing.return()\n",
    "    }\n",
    "}\n",
    "\n",
    "class Just extends Maybe {\n",
    "    /**\n",
    "     * return :: a -> Just a\n",
    "     * @override\n",
    "     * @param {*} x\n",
    "     * @returns {Just}\n",
    "     */\n",
    "    static return(x) {\n",
    "        return new Just(x, Just)\n",
    "    }\n",
    "}\n",
    "\n",
    "class Nothing extends Maybe {\n",
    "    /**\n",
    "     * return :: Nothing\n",
    "     * @override\n",
    "     * @returns {Nothing}\n",
    "     */\n",
    "    static return() {\n",
    "        return new Nothing(null, Nothing)\n",
    "    }\n",
    "}"
   ]
  },
  {
   "cell_type": "markdown",
   "metadata": {},
   "source": [
    "## Maybe examples"
   ]
  },
  {
   "cell_type": "code",
   "execution_count": 3,
   "metadata": {
    "collapsed": false
   },
   "outputs": [
    {
     "data": {
      "text/plain": [
       "Just { x: 9 }"
      ]
     },
     "execution_count": 3,
     "metadata": {},
     "output_type": "execute_result"
    }
   ],
   "source": [
    "Just.return(1)\n",
    "    .bind(x => Just.return(x + 1))\n",
    "    .bind(x => Just.return(x + 1))\n",
    "    .liftM(x => x * x)"
   ]
  },
  {
   "cell_type": "markdown",
   "metadata": {},
   "source": [
    "### Save division"
   ]
  },
  {
   "cell_type": "code",
   "execution_count": 4,
   "metadata": {
    "collapsed": false
   },
   "outputs": [
    {
     "data": {
      "text/plain": [
       "undefined"
      ]
     },
     "execution_count": 4,
     "metadata": {},
     "output_type": "execute_result"
    }
   ],
   "source": [
    "function divide(d) {\n",
    "    return (x => {\n",
    "        if (Number.isFinite(x) && Number.isFinite(d) && d !== 0)\n",
    "            return Just.return(x / d)\n",
    "        else\n",
    "            return Nothing.return()\n",
    "    })\n",
    "}"
   ]
  },
  {
   "cell_type": "code",
   "execution_count": 5,
   "metadata": {
    "collapsed": false
   },
   "outputs": [
    {
     "data": {
      "text/plain": [
       "Just { x: 4 }"
      ]
     },
     "execution_count": 5,
     "metadata": {},
     "output_type": "execute_result"
    }
   ],
   "source": [
    "Just.return(32)\n",
    "    .bind(divide(2))\n",
    "    .liftM(Math.sqrt)"
   ]
  },
  {
   "cell_type": "code",
   "execution_count": 6,
   "metadata": {
    "collapsed": false
   },
   "outputs": [
    {
     "data": {
      "text/plain": [
       "Nothing { x: null }"
      ]
     },
     "execution_count": 6,
     "metadata": {},
     "output_type": "execute_result"
    }
   ],
   "source": [
    "Just.return(32)\n",
    "    .bind(divide(NaN))\n",
    "    .liftM(Math.sqrt)"
   ]
  },
  {
   "cell_type": "markdown",
   "metadata": {},
   "source": [
    "### Safe properties"
   ]
  },
  {
   "cell_type": "code",
   "execution_count": 7,
   "metadata": {
    "collapsed": false
   },
   "outputs": [
    {
     "data": {
      "text/plain": [
       "undefined"
      ]
     },
     "execution_count": 7,
     "metadata": {},
     "output_type": "execute_result"
    }
   ],
   "source": [
    "function get(property) {\n",
    "    return (object => {\n",
    "        if (object.hasOwnProperty(property))\n",
    "            return Just.return(object[property])\n",
    "        else\n",
    "            return Nothing.return()\n",
    "    })\n",
    "}"
   ]
  },
  {
   "cell_type": "code",
   "execution_count": 8,
   "metadata": {
    "collapsed": false
   },
   "outputs": [
    {
     "data": {
      "text/plain": [
       "Just { x: 42 }"
      ]
     },
     "execution_count": 8,
     "metadata": {},
     "output_type": "execute_result"
    }
   ],
   "source": [
    "Just.return({foo: {bar: 42}})\n",
    "    .bind(get('foo'))\n",
    "    .bind(get('bar'))"
   ]
  },
  {
   "cell_type": "code",
   "execution_count": 9,
   "metadata": {
    "collapsed": false
   },
   "outputs": [
    {
     "data": {
      "text/plain": [
       "Nothing { x: null }"
      ]
     },
     "execution_count": 9,
     "metadata": {},
     "output_type": "execute_result"
    }
   ],
   "source": [
    "Just.return({foo: {bar: 42}})\n",
    "    .bind(get('baz'))\n",
    "    .bind(get('bar'))"
   ]
  },
  {
   "cell_type": "markdown",
   "metadata": {},
   "source": [
    "## Monad Laws\n",
    "\n",
    "Every instance of the Monad class (and thus all implementations of bind (>>=) and return) must obey the following three laws:\n",
    "\n",
    "```haskell\n",
    "m >>= return     =  m                        -- right unit\n",
    "return x >>= f   =  f x                      -- left unit\n",
    "\n",
    "(m >>= f) >>= g  =  m >>= (\\x -> f x >>= g)  -- associativity\n",
    "```"
   ]
  },
  {
   "cell_type": "code",
   "execution_count": 10,
   "metadata": {
    "collapsed": false
   },
   "outputs": [
    {
     "data": {
      "text/plain": [
       "'ok'"
      ]
     },
     "execution_count": 10,
     "metadata": {},
     "output_type": "execute_result"
    },
    {
     "name": "stderr",
     "output_type": "stream",
     "text": [
      "(node:367) Warning: Possible EventEmitter memory leak detected. 11 unpipe listeners added. Use emitter.setMaxListeners() to increase limit\n",
      "(node:367) Warning: Possible EventEmitter memory leak detected. 11 drain listeners added. Use emitter.setMaxListeners() to increase limit\n",
      "(node:367) Warning: Possible EventEmitter memory leak detected. 11 error listeners added. Use emitter.setMaxListeners() to increase limit\n",
      "(node:367) Warning: Possible EventEmitter memory leak detected. 11 close listeners added. Use emitter.setMaxListeners() to increase limit\n",
      "(node:367) Warning: Possible EventEmitter memory leak detected. 11 finish listeners added. Use emitter.setMaxListeners() to increase limit\n",
      "(node:367) Warning: Possible EventEmitter memory leak detected. 11 unpipe listeners added. Use emitter.setMaxListeners() to increase limit\n",
      "(node:367) Warning: Possible EventEmitter memory leak detected. 11 drain listeners added. Use emitter.setMaxListeners() to increase limit\n",
      "(node:367) Warning: Possible EventEmitter memory leak detected. 11 error listeners added. Use emitter.setMaxListeners() to increase limit\n",
      "(node:367) Warning: Possible EventEmitter memory leak detected. 11 close listeners added. Use emitter.setMaxListeners() to increase limit\n",
      "(node:367) Warning: Possible EventEmitter memory leak detected. 11 finish listeners added. Use emitter.setMaxListeners() to increase limit\n"
     ]
    }
   ],
   "source": [
    "(function() {\n",
    "    const equal = require('assert').deepEqual\n",
    "\n",
    "    const ret = Just.return\n",
    "    const m = ret(42)\n",
    "    const f = (x => ret(x * x))\n",
    "    const g = (x => ret(-x))\n",
    "\n",
    "    // right unit\n",
    "    equal(m.bind(ret), m)\n",
    "\n",
    "    // left unit\n",
    "    equal(ret(42).bind(f), f(42))\n",
    "\n",
    "    // associativity\n",
    "    equal(m.bind(f).bind(g), m.bind(x => f(x).bind(g)))\n",
    "\n",
    "    return 'ok'\n",
    "}())"
   ]
  },
  {
   "cell_type": "markdown",
   "metadata": {},
   "source": [
    "## Identity Monad"
   ]
  },
  {
   "cell_type": "code",
   "execution_count": 11,
   "metadata": {
    "collapsed": false
   },
   "outputs": [
    {
     "data": {
      "text/plain": [
       "[Function: Identity]"
      ]
     },
     "execution_count": 11,
     "metadata": {},
     "output_type": "execute_result"
    }
   ],
   "source": [
    "class Identity extends Monad {\n",
    "  static return (x) {\n",
    "    return new Identity(x, Identity)\n",
    "  }\n",
    "\n",
    "  bind(g) {\n",
    "    return g(this.x)\n",
    "  }\n",
    "}"
   ]
  },
  {
   "cell_type": "markdown",
   "metadata": {},
   "source": [
    "## Continuation Monad"
   ]
  },
  {
   "cell_type": "code",
   "execution_count": 12,
   "metadata": {
    "collapsed": false
   },
   "outputs": [
    {
     "data": {
      "text/plain": [
       "[Function: Cont]"
      ]
     },
     "execution_count": 12,
     "metadata": {},
     "output_type": "execute_result"
    }
   ],
   "source": [
    "class Cont extends Monad {\n",
    "  static return (y) {\n",
    "    return new Cont(f => f(y), Cont)\n",
    "  }\n",
    "\n",
    "  bind(g) {\n",
    "    return this.x(g)\n",
    "  }\n",
    "}"
   ]
  },
  {
   "cell_type": "code",
   "execution_count": 13,
   "metadata": {
    "collapsed": false
   },
   "outputs": [
    {
     "data": {
      "text/plain": [
       "Identity { x: 44 }"
      ]
     },
     "execution_count": 13,
     "metadata": {},
     "output_type": "execute_result"
    }
   ],
   "source": [
    "Cont.return(42)\n",
    "  .bind(x => Cont.return(x + 1))\n",
    "  .bind(x => Cont.return(x + 1))\n",
    "  .bind(Identity.return)"
   ]
  },
  {
   "cell_type": "markdown",
   "metadata": {},
   "source": [
    "## List Monad"
   ]
  },
  {
   "cell_type": "code",
   "execution_count": 14,
   "metadata": {
    "collapsed": false
   },
   "outputs": [
    {
     "data": {
      "text/plain": [
       "[Function: List]"
      ]
     },
     "execution_count": 14,
     "metadata": {},
     "output_type": "execute_result"
    }
   ],
   "source": [
    "class List extends Monad {\n",
    "  static return (x) {\n",
    "    return new List([x], List)\n",
    "  }\n",
    "\n",
    "  bind(g) {\n",
    "    return this.x.map(g).reduce((xs, x) => xs.concat(x))\n",
    "  }\n",
    "}"
   ]
  },
  {
   "cell_type": "code",
   "execution_count": 15,
   "metadata": {
    "collapsed": false
   },
   "outputs": [
    {
     "data": {
      "text/plain": [
       "List { x: [ 4 ] }"
      ]
     },
     "execution_count": 15,
     "metadata": {},
     "output_type": "execute_result"
    }
   ],
   "source": [
    "List.return(2).liftM(x => x*x)"
   ]
  },
  {
   "cell_type": "code",
   "execution_count": null,
   "metadata": {
    "collapsed": true
   },
   "outputs": [],
   "source": []
  }
 ],
 "metadata": {
  "kernelspec": {
   "display_name": "Javascript (Node.js)",
   "language": "javascript",
   "name": "javascript"
  },
  "language_info": {
   "file_extension": ".js",
   "mimetype": "application/javascript",
   "name": "javascript",
   "version": "6.0.0"
  }
 },
 "nbformat": 4,
 "nbformat_minor": 0
}
