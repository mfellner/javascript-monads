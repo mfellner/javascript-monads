{
 "cells": [
  {
   "cell_type": "markdown",
   "metadata": {},
   "source": [
    "# Monad Types in JavaScript\n",
    "\n",
    "Based on [Understanding Monads](https://en.wikibooks.org/wiki/Haskell/Understanding_monads) in Haskell.\n",
    "\n",
    "A monad is defined by three things:\n",
    "\n",
    "* a [type constructor](https://en.wikibooks.org/wiki/Haskell/More_on_datatypes#Parameterized_Types) `m` (does not exist in JavaScript)\n",
    "* a function `return`\n",
    "* an operator `(>>=)` which is pronounced \"bind\"\n",
    "\n",
    "The function and operator are methods of the Monad class:"
   ]
  },
  {
   "cell_type": "code",
   "execution_count": 1,
   "metadata": {
    "collapsed": false
   },
   "outputs": [
    {
     "data": {
      "text/plain": [
       "[Function: Monad]"
      ]
     },
     "execution_count": 1,
     "metadata": {},
     "output_type": "execute_result"
    }
   ],
   "source": [
    "\"use strict\"\n",
    "class Monad {\n",
    "    constructor(x) {\n",
    "        this.x = x\n",
    "    }\n",
    "\n",
    "    /**\n",
    "     * return :: a -> m a\n",
    "     * @param {*} x\n",
    "     * @returns {Monad}\n",
    "     */\n",
    "    static return(x) {\n",
    "        throw new Error('derived types must implement return') \n",
    "    }\n",
    "\n",
    "    /**\n",
    "     * bind :: m a -> (a -> m b) -> m b\n",
    "     * @abstract\n",
    "     * @param {function} g\n",
    "     * @returns {Monad}\n",
    "     */\n",
    "    bind(g) {\n",
    "        throw new Error('derived types must implement bind')\n",
    "    }\n",
    "\n",
    "    /**\n",
    "     * then :: m a -> m b -> m b\n",
    "     * @param {Monad} m\n",
    "     * @returns {Monad}\n",
    "     */\n",
    "    then(m) {\n",
    "        return this.bind(_ => m)\n",
    "    }\n",
    "}"
   ]
  },
  {
   "cell_type": "code",
   "execution_count": 2,
   "metadata": {
    "collapsed": false
   },
   "outputs": [
    {
     "data": {
      "text/plain": [
       "[Function: Nothing]"
      ]
     },
     "execution_count": 2,
     "metadata": {},
     "output_type": "execute_result"
    }
   ],
   "source": [
    "\"use strict\"\n",
    "class Maybe extends Monad {\n",
    "    /**\n",
    "     * bind :: Maybe a -> (Maybe -> Maybe b) -> Maybe b\n",
    "     * @override\n",
    "     * @param {function} g\n",
    "     * @returns {Maybe}\n",
    "     */\n",
    "    bind(g) {\n",
    "        if (this instanceof Something)\n",
    "            return g(this.x)\n",
    "        else\n",
    "            return Nothing.return()\n",
    "    }\n",
    "}\n",
    "\n",
    "class Something extends Maybe {\n",
    "    /**\n",
    "     * return :: a -> Something a\n",
    "     * @override\n",
    "     * @param {*} x\n",
    "     * @returns {Something}\n",
    "     */\n",
    "    static return(x) {\n",
    "        return new Something(x)\n",
    "    }\n",
    "}\n",
    "\n",
    "class Nothing extends Maybe {\n",
    "    /**\n",
    "     * return :: Nothing\n",
    "     * @override\n",
    "     * @returns {Nothing}\n",
    "     */\n",
    "    static return() {\n",
    "        return new Nothing(null)\n",
    "    }\n",
    "}"
   ]
  },
  {
   "cell_type": "code",
   "execution_count": 3,
   "metadata": {
    "collapsed": false
   },
   "outputs": [
    {
     "data": {
      "text/plain": [
       "Something { x: 3 }"
      ]
     },
     "execution_count": 3,
     "metadata": {},
     "output_type": "execute_result"
    }
   ],
   "source": [
    "m = Something.return(1)\n",
    "m.bind(x => Something.return(x + 1))\n",
    " .bind(x => Something.return(x + 1))"
   ]
  },
  {
   "cell_type": "code",
   "execution_count": 4,
   "metadata": {
    "collapsed": false
   },
   "outputs": [
    {
     "data": {
      "text/plain": [
       "Nothing { x: null }"
      ]
     },
     "execution_count": 4,
     "metadata": {},
     "output_type": "execute_result"
    }
   ],
   "source": [
    "m.bind(x => Nothing.return())\n",
    " .bind(x => Something.return(x + 1))"
   ]
  },
  {
   "cell_type": "markdown",
   "metadata": {},
   "source": [
    "## Monad Laws\n",
    "\n",
    "Every instance of the Monad class (and thus all implementations of bind (>>=) and return) must obey the following three laws:\n",
    "\n",
    "```haskell\n",
    "m >>= return     =  m                        -- right unit\n",
    "return x >>= f   =  f x                      -- left unit\n",
    "\n",
    "(m >>= f) >>= g  =  m >>= (\\x -> f x >>= g)  -- associativity\n",
    "```"
   ]
  },
  {
   "cell_type": "code",
   "execution_count": 5,
   "metadata": {
    "collapsed": false
   },
   "outputs": [
    {
     "data": {
      "text/plain": [
       "'ok'"
      ]
     },
     "execution_count": 5,
     "metadata": {},
     "output_type": "execute_result"
    }
   ],
   "source": [
    "(function() {\n",
    "    \"use strict\"\n",
    "    const equal = require('assert').deepEqual\n",
    "\n",
    "    const m = new Something(42)\n",
    "    const ret = Something.return\n",
    "    const f = (x => ret(x * x))\n",
    "    const g = (x => ret(-x))\n",
    "\n",
    "    // right unit\n",
    "    equal(m.bind(ret), m)\n",
    "\n",
    "    // left unit\n",
    "    equal(ret(42).bind(f), f(42))\n",
    "\n",
    "    // associativity\n",
    "    equal(m.bind(f).bind(g), m.bind(x => f(x).bind(g)))\n",
    "\n",
    "    return 'ok'\n",
    "}())"
   ]
  },
  {
   "cell_type": "code",
   "execution_count": null,
   "metadata": {
    "collapsed": true
   },
   "outputs": [],
   "source": []
  }
 ],
 "metadata": {
  "kernelspec": {
   "display_name": "Javascript (Node.js)",
   "language": "javascript",
   "name": "javascript"
  },
  "language_info": {
   "file_extension": ".js",
   "mimetype": "application/javascript",
   "name": "javascript",
   "version": "5.10.1"
  }
 },
 "nbformat": 4,
 "nbformat_minor": 0
}
